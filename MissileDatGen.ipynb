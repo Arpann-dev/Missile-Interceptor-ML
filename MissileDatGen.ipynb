{
 "cells": [
  {
   "cell_type": "code",
   "execution_count": 4,
   "id": "e733a7d3-b4c7-45be-b467-a2388dacba63",
   "metadata": {},
   "outputs": [],
   "source": [
    "#importing libraries and setting seed value \n",
    "import numpy as np\n",
    "import pandas as pd\n",
    "# Constants\n",
    "g = 9.81  # acceleration due to gravity (m/s^2)\n",
    "# Number of samples to generate\n",
    "n_samples = 10000\n",
    "# Randomized initial conditions\n",
    "np.random.seed(42)\n"
   ]
  },
  {
   "cell_type": "code",
   "execution_count": 5,
   "id": "1e2d29cb-43fb-4db1-9e38-b9cf7c9987f3",
   "metadata": {},
   "outputs": [
    {
     "name": "stdout",
     "output_type": "stream",
     "text": [
      "Dataset saved as 'missile_trajectory_dataset_with_both_angles.csv'\n"
     ]
    }
   ],
   "source": [
    "# Generate angles:\n",
    "# Left-to-right: 20° to 70°\n",
    "angles_deg1 = np.random.uniform(20, 70, size=n_samples // 2)\n",
    "\n",
    "# Right-to-left: 110° to 160°\n",
    "angles_deg2 = np.random.uniform(110, 160, size=n_samples // 2)\n",
    "\n",
    "# Combine all angles and convert to radians\n",
    "angles_deg = np.concatenate([angles_deg1, angles_deg2])\n",
    "angles_rad = np.radians(angles_deg)\n",
    "\n",
    "# Speeds\n",
    "speeds = np.random.uniform(100, 300, size=n_samples)\n",
    "\n",
    "# Initial positions\n",
    "x0 = np.zeros(n_samples)\n",
    "y0 = np.zeros(n_samples)\n",
    "\n",
    "# Velocity components\n",
    "vx = speeds * np.cos(angles_rad)  # X direction (positive or negative depending on angle)\n",
    "vy = speeds * np.sin(angles_rad)  # Y direction (always upward initially)\n",
    "\n",
    "# Time of flight (when y returns to 0)\n",
    "t_impact = (2 * vy) / g\n",
    "\n",
    "# X position at impact\n",
    "x_impact = vx * t_impact\n",
    "\n",
    "# Position after 1 second\n",
    "x1 = vx * t_obs\n",
    "y1 = vy * t_obs - 0.5 * g * t_obs**2\n",
    "\n",
    "# Create DataFrame\n",
    "df = pd.DataFrame({\n",
    "    'x0': x0,\n",
    "    'y0': y0,\n",
    "    'x1': x1,\n",
    "    'y1': y1,\n",
    "    'delta_t': t_obs,\n",
    "    'x_impact': x_impact,\n",
    "    't_impact': t_impact\n",
    "})\n",
    "\n",
    "# Save to CSV\n",
    "df.to_csv(\"missile_trajectory_dataset_with_both_angles.csv\", index=False)\n",
    "print(\"Dataset saved as 'missile_trajectory_dataset_with_both_angles.csv'\")"
   ]
  },
  {
   "cell_type": "code",
   "execution_count": null,
   "id": "0c0a8b69-9346-4e99-8fea-1e3b9c594964",
   "metadata": {},
   "outputs": [],
   "source": []
  }
 ],
 "metadata": {
  "kernelspec": {
   "display_name": "Python 3 (ipykernel)",
   "language": "python",
   "name": "python3"
  },
  "language_info": {
   "codemirror_mode": {
    "name": "ipython",
    "version": 3
   },
   "file_extension": ".py",
   "mimetype": "text/x-python",
   "name": "python",
   "nbconvert_exporter": "python",
   "pygments_lexer": "ipython3",
   "version": "3.13.1"
  }
 },
 "nbformat": 4,
 "nbformat_minor": 5
}
